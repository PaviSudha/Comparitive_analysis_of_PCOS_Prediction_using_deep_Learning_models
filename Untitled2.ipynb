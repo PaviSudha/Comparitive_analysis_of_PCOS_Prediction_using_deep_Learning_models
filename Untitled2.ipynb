{
  "nbformat": 4,
  "nbformat_minor": 0,
  "metadata": {
    "colab": {
      "provenance": [],
      "authorship_tag": "ABX9TyMjFRLLnNFq9bFhbb5psnvY",
      "include_colab_link": true
    },
    "kernelspec": {
      "name": "python3",
      "display_name": "Python 3"
    },
    "language_info": {
      "name": "python"
    }
  },
  "cells": [
    {
      "cell_type": "markdown",
      "metadata": {
        "id": "view-in-github",
        "colab_type": "text"
      },
      "source": [
        "<a href=\"https://colab.research.google.com/github/PaviSudha/Comparitive_analysis_of_PCOS_Prediction_using_deep_Learning_models/blob/master/Untitled2.ipynb\" target=\"_parent\"><img src=\"https://colab.research.google.com/assets/colab-badge.svg\" alt=\"Open In Colab\"/></a>"
      ]
    },
    {
      "cell_type": "code",
      "source": [
        "!pip install skfolio"
      ],
      "metadata": {
        "id": "VMRpGass6ara",
        "colab": {
          "base_uri": "https://localhost:8080/"
        },
        "outputId": "ed804513-6d8a-4a99-d1a0-cdff3321280c"
      },
      "execution_count": 1,
      "outputs": [
        {
          "output_type": "stream",
          "name": "stdout",
          "text": [
            "Collecting skfolio\n",
            "  Downloading skfolio-0.11.0-py3-none-any.whl.metadata (26 kB)\n",
            "Requirement already satisfied: numpy>=1.23.4 in /usr/local/lib/python3.11/dist-packages (from skfolio) (2.0.2)\n",
            "Requirement already satisfied: scipy>=1.15.2 in /usr/local/lib/python3.11/dist-packages (from skfolio) (1.16.0)\n",
            "Requirement already satisfied: pandas>=1.4.1 in /usr/local/lib/python3.11/dist-packages (from skfolio) (2.2.2)\n",
            "Collecting cvxpy-base>=1.5.0 (from skfolio)\n",
            "  Downloading cvxpy_base-1.7.1-cp311-cp311-manylinux_2_24_x86_64.manylinux_2_28_x86_64.whl.metadata (9.5 kB)\n",
            "Requirement already satisfied: clarabel>=0.9.0 in /usr/local/lib/python3.11/dist-packages (from skfolio) (0.11.1)\n",
            "Requirement already satisfied: scikit-learn>=1.6.0 in /usr/local/lib/python3.11/dist-packages (from skfolio) (1.6.1)\n",
            "Requirement already satisfied: joblib>=1.3.2 in /usr/local/lib/python3.11/dist-packages (from skfolio) (1.5.1)\n",
            "Requirement already satisfied: plotly>=5.22.0 in /usr/local/lib/python3.11/dist-packages (from skfolio) (5.24.1)\n",
            "Requirement already satisfied: cffi in /usr/local/lib/python3.11/dist-packages (from clarabel>=0.9.0->skfolio) (1.17.1)\n",
            "Requirement already satisfied: python-dateutil>=2.8.2 in /usr/local/lib/python3.11/dist-packages (from pandas>=1.4.1->skfolio) (2.9.0.post0)\n",
            "Requirement already satisfied: pytz>=2020.1 in /usr/local/lib/python3.11/dist-packages (from pandas>=1.4.1->skfolio) (2025.2)\n",
            "Requirement already satisfied: tzdata>=2022.7 in /usr/local/lib/python3.11/dist-packages (from pandas>=1.4.1->skfolio) (2025.2)\n",
            "Requirement already satisfied: tenacity>=6.2.0 in /usr/local/lib/python3.11/dist-packages (from plotly>=5.22.0->skfolio) (8.5.0)\n",
            "Requirement already satisfied: packaging in /usr/local/lib/python3.11/dist-packages (from plotly>=5.22.0->skfolio) (25.0)\n",
            "Requirement already satisfied: threadpoolctl>=3.1.0 in /usr/local/lib/python3.11/dist-packages (from scikit-learn>=1.6.0->skfolio) (3.6.0)\n",
            "Requirement already satisfied: six>=1.5 in /usr/local/lib/python3.11/dist-packages (from python-dateutil>=2.8.2->pandas>=1.4.1->skfolio) (1.17.0)\n",
            "Requirement already satisfied: pycparser in /usr/local/lib/python3.11/dist-packages (from cffi->clarabel>=0.9.0->skfolio) (2.22)\n",
            "Downloading skfolio-0.11.0-py3-none-any.whl (849 kB)\n",
            "\u001b[2K   \u001b[90m━━━━━━━━━━━━━━━━━━━━━━━━━━━━━━━━━━━━━━━━\u001b[0m \u001b[32m850.0/850.0 kB\u001b[0m \u001b[31m23.6 MB/s\u001b[0m eta \u001b[36m0:00:00\u001b[0m\n",
            "\u001b[?25hDownloading cvxpy_base-1.7.1-cp311-cp311-manylinux_2_24_x86_64.manylinux_2_28_x86_64.whl (1.2 MB)\n",
            "\u001b[2K   \u001b[90m━━━━━━━━━━━━━━━━━━━━━━━━━━━━━━━━━━━━━━━━\u001b[0m \u001b[32m1.2/1.2 MB\u001b[0m \u001b[31m22.2 MB/s\u001b[0m eta \u001b[36m0:00:00\u001b[0m\n",
            "\u001b[?25hInstalling collected packages: cvxpy-base, skfolio\n",
            "Successfully installed cvxpy-base-1.7.1 skfolio-0.11.0\n"
          ]
        }
      ]
    },
    {
      "cell_type": "code",
      "source": [
        "from sklearn import set_config"
      ],
      "metadata": {
        "id": "sdHf7LM2ml6q"
      },
      "execution_count": 3,
      "outputs": []
    },
    {
      "cell_type": "code",
      "source": [
        "\n"
      ],
      "metadata": {
        "id": "eLHYcDCvni5Z"
      },
      "execution_count": null,
      "outputs": []
    }
  ]
}